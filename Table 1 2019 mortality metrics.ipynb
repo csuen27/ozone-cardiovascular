{
 "cells": [
  {
   "cell_type": "code",
   "execution_count": 1,
   "id": "85178341-d49c-46c9-9226-00f8024f2b70",
   "metadata": {},
   "outputs": [],
   "source": [
    "import pandas as pd\n",
    "import numpy as np\n",
    "import warnings\n",
    "warnings.filterwarnings(\"ignore\")"
   ]
  },
  {
   "cell_type": "markdown",
   "id": "85302fc0-1fb4-425b-baab-6424a9ca4837",
   "metadata": {},
   "source": [
    "#### Mortality numbers"
   ]
  },
  {
   "cell_type": "code",
   "execution_count": 2,
   "id": "f0cc6ed8-5665-4914-b973-0ed9c6401ea5",
   "metadata": {},
   "outputs": [],
   "source": [
    "data_19 = pd.read_csv('~/ozone-mortality/ozone-cvd-mortality-2019(v0).csv')\n",
    "M49 = pd.read_csv('~/Health/M49 list.csv')\n",
    "data_19 = data_19.merge(M49, how='left', left_on=['arcgis_ID'], right_on=['arcgisID'])                     "
   ]
  },
  {
   "cell_type": "code",
   "execution_count": 3,
   "id": "56826882-813f-49a8-98fd-3a27f984ef02",
   "metadata": {},
   "outputs": [],
   "source": [
    "deaths_M49C = data_19.groupby(['M49C']).sum()[['cvd_25_death_urban_est','cvd_25_death_urban_lb','cvd_25_death_urban_ub',\n",
    "                                               'cvd_25_death_rural_est','cvd_25_death_rural_lb','cvd_25_death_rural_ub']]\n",
    "deaths_M49C = np.round(deaths_M49C,-2)\n",
    "deaths_M49C.to_csv('Table 1 excess deaths M49C.csv')"
   ]
  },
  {
   "cell_type": "code",
   "execution_count": 4,
   "id": "3e240868-fc26-4358-a23c-925c26d45eda",
   "metadata": {},
   "outputs": [],
   "source": [
    "deaths_M49R = data_19.groupby(['M49R']).sum()[['cvd_25_death_urban_est','cvd_25_death_urban_lb','cvd_25_death_urban_ub',\n",
    "                                               'cvd_25_death_rural_est','cvd_25_death_rural_lb','cvd_25_death_rural_ub']]\n",
    "deaths_M49R = np.round(deaths_M49R,-2)\n",
    "deaths_M49R.to_csv('Table 1 excess deaths M49R.csv')"
   ]
  },
  {
   "cell_type": "markdown",
   "id": "79938a5f-3dfd-446e-a19a-87a288aba681",
   "metadata": {},
   "source": [
    "#### Mortality rate"
   ]
  },
  {
   "cell_type": "code",
   "execution_count": 5,
   "id": "cae71c0a-faa8-43c8-b80d-a44647007e44",
   "metadata": {},
   "outputs": [],
   "source": [
    "data_19['pop_urban_25plus'] = data_19['population_urban_19']*data_19['pop_25plus']/data_19['pop_all']\n",
    "data_19['pop_rural_25plus'] = data_19['population_rural_19']*data_19['pop_25plus']/data_19['pop_all']\n",
    "\n",
    "mort_M49C = data_19.groupby(['M49C']).sum()[['pop_urban_25plus','pop_rural_25plus',\n",
    "                                             'cvd_25_death_urban_est','cvd_25_death_urban_lb','cvd_25_death_urban_ub',\n",
    "                                             'cvd_25_death_rural_est','cvd_25_death_rural_lb','cvd_25_death_rural_ub']]\n",
    "\n",
    "mort_M49C['cvd_25_mort_urban_est'] = mort_M49C['cvd_25_death_urban_est']/mort_M49C['pop_urban_25plus']*100000\n",
    "mort_M49C['cvd_25_mort_urban_lb']  = mort_M49C['cvd_25_death_urban_lb']/mort_M49C['pop_urban_25plus']*100000\n",
    "mort_M49C['cvd_25_mort_urban_ub']  = mort_M49C['cvd_25_death_urban_ub']/mort_M49C['pop_urban_25plus']*100000\n",
    "\n",
    "mort_M49C['cvd_25_mort_rural_est'] = mort_M49C['cvd_25_death_rural_est']/mort_M49C['pop_rural_25plus']*100000\n",
    "mort_M49C['cvd_25_mort_rural_lb']  = mort_M49C['cvd_25_death_rural_lb']/mort_M49C['pop_rural_25plus']*100000\n",
    "mort_M49C['cvd_25_mort_rural_ub']  = mort_M49C['cvd_25_death_rural_ub']/mort_M49C['pop_rural_25plus']*100000\n",
    "\n",
    "mort_M49C = np.round(mort_M49C[['cvd_25_mort_urban_est','cvd_25_mort_urban_lb','cvd_25_mort_urban_ub',\n",
    "                                'cvd_25_mort_rural_est','cvd_25_mort_rural_lb','cvd_25_mort_rural_ub']],1)\n",
    "mort_M49C.to_csv('Table 1 excess mortality rate M49C.csv')"
   ]
  },
  {
   "cell_type": "code",
   "execution_count": 6,
   "id": "7dccc009-2146-48c8-b75d-ad1278665635",
   "metadata": {},
   "outputs": [],
   "source": [
    "data_19['pop_urban_25plus'] = data_19['population_urban_19']*data_19['pop_25plus']/data_19['pop_all']\n",
    "data_19['pop_rural_25plus'] = data_19['population_rural_19']*data_19['pop_25plus']/data_19['pop_all']\n",
    "\n",
    "mort_M49R = data_19.groupby(['M49R']).sum()[['pop_urban_25plus','pop_rural_25plus',\n",
    "                                             'cvd_25_death_urban_est','cvd_25_death_urban_lb','cvd_25_death_urban_ub',\n",
    "                                             'cvd_25_death_rural_est','cvd_25_death_rural_lb','cvd_25_death_rural_ub']]\n",
    "\n",
    "mort_M49R['cvd_25_mort_urban_est'] = mort_M49R['cvd_25_death_urban_est']/mort_M49R['pop_urban_25plus']*100000\n",
    "mort_M49R['cvd_25_mort_urban_lb']  = mort_M49R['cvd_25_death_urban_lb']/mort_M49R['pop_urban_25plus']*100000\n",
    "mort_M49R['cvd_25_mort_urban_ub']  = mort_M49R['cvd_25_death_urban_ub']/mort_M49R['pop_urban_25plus']*100000\n",
    "\n",
    "mort_M49R['cvd_25_mort_rural_est'] = mort_M49R['cvd_25_death_rural_est']/mort_M49R['pop_rural_25plus']*100000\n",
    "mort_M49R['cvd_25_mort_rural_lb']  = mort_M49R['cvd_25_death_rural_lb']/mort_M49R['pop_rural_25plus']*100000\n",
    "mort_M49R['cvd_25_mort_rural_ub']  = mort_M49R['cvd_25_death_rural_ub']/mort_M49R['pop_rural_25plus']*100000\n",
    "\n",
    "mort_M49R = np.round(mort_M49R[['cvd_25_mort_urban_est','cvd_25_mort_urban_lb','cvd_25_mort_urban_ub',\n",
    "                                'cvd_25_mort_rural_est','cvd_25_mort_rural_lb','cvd_25_mort_rural_ub']],1)\n",
    "mort_M49R.to_csv('Table 1 excess mortality rate M49R.csv')"
   ]
  },
  {
   "cell_type": "markdown",
   "id": "2b380534-48b3-44c2-9309-a7db26785d82",
   "metadata": {},
   "source": [
    "#### YLLs"
   ]
  },
  {
   "cell_type": "code",
   "execution_count": 7,
   "id": "494418c6-1991-4441-9999-17fd0cc4edbb",
   "metadata": {},
   "outputs": [],
   "source": [
    "data_19 = pd.read_csv('~/ozone-mortality/ozone-cvd-YLLs-2019(v0).csv')\n",
    "M49 = pd.read_csv('~/Health/M49 list.csv')\n",
    "data_19 = data_19.merge(M49, how='left', left_on=['arcgis_ID'], right_on=['arcgisID'])  "
   ]
  },
  {
   "cell_type": "code",
   "execution_count": 8,
   "id": "8c986187-7829-4c2a-a42d-a21d12f6c758",
   "metadata": {},
   "outputs": [],
   "source": [
    "ylls_M49C = data_19.groupby(['M49C']).sum()[['cvd_25_death_urban_est','cvd_25_death_urban_lb','cvd_25_death_urban_ub',\n",
    "                                             'cvd_25_death_rural_est','cvd_25_death_rural_lb','cvd_25_death_rural_ub']]\n",
    "\n",
    "ylls_M49C = np.round(ylls_M49C[['cvd_25_death_urban_est','cvd_25_death_urban_lb','cvd_25_death_urban_ub',\n",
    "                                'cvd_25_death_rural_est','cvd_25_death_rural_lb','cvd_25_death_rural_ub']],-2)\n",
    "ylls_M49C.to_csv('Table 1 YLLs M49C.csv')"
   ]
  },
  {
   "cell_type": "code",
   "execution_count": 9,
   "id": "976676d7-acb2-4aaa-911e-dd1e58776c38",
   "metadata": {},
   "outputs": [],
   "source": [
    "ylls_M49R = data_19.groupby(['M49R']).sum()[['cvd_25_death_urban_est','cvd_25_death_urban_lb','cvd_25_death_urban_ub',\n",
    "                                             'cvd_25_death_rural_est','cvd_25_death_rural_lb','cvd_25_death_rural_ub']]\n",
    "\n",
    "ylls_M49R = np.round(ylls_M49R[['cvd_25_death_urban_est','cvd_25_death_urban_lb','cvd_25_death_urban_ub',\n",
    "                                'cvd_25_death_rural_est','cvd_25_death_rural_lb','cvd_25_death_rural_ub']],-2)\n",
    "ylls_M49R.to_csv('Table 1 YLLs M49R.csv')"
   ]
  }
 ],
 "metadata": {
  "kernelspec": {
   "display_name": "Python 3 + Jaspy",
   "language": "python",
   "name": "jaspy"
  },
  "language_info": {
   "codemirror_mode": {
    "name": "ipython",
    "version": 3
   },
   "file_extension": ".py",
   "mimetype": "text/x-python",
   "name": "python",
   "nbconvert_exporter": "python",
   "pygments_lexer": "ipython3",
   "version": "3.10.5"
  }
 },
 "nbformat": 4,
 "nbformat_minor": 5
}
