{
 "cells": [
  {
   "cell_type": "code",
   "execution_count": 1,
   "id": "de498040-57be-4a0f-b7c8-7089cb41d1ab",
   "metadata": {},
   "outputs": [],
   "source": [
    "import pandas as pd\n",
    "import numpy as np\n",
    "import time\n",
    "import warnings\n",
    "warnings.filterwarnings(\"ignore\")"
   ]
  },
  {
   "cell_type": "code",
   "execution_count": 2,
   "id": "f15bce79-cb98-40a0-9bbf-1c33be108476",
   "metadata": {},
   "outputs": [],
   "source": [
    "data = pd.read_csv('~/Health/ozone_15_mort_est_total(1119).csv')\n",
    "\n",
    "ozone = data[['loc','longitude','latitude',\n",
    "              'arcgis_ID','location_id','cont_new_ID',\n",
    "              'population_total_15','population_urban_15','population_rural_15',\n",
    "              'MDA8h_urban_warm_15','MDA8h_rural_warm_15',\n",
    "              'cvd_25_death_urban_est','cvd_25_death_urban_lb','cvd_25_death_urban_ub','cvd_25_death_rural_est','cvd_25_death_rural_lb','cvd_25_death_rural_ub']]\n",
    "ozone = ozone.rename(columns={'cont_new_ID':'cont_ID'})\n",
    "\n",
    "age_15 = pd.read_csv('~/ozone-mortality/age structure list/age_15_list.csv')\n",
    "mort_15 = pd.read_csv('~/ozone-mortality/mortality list/mort_15_list.csv')\n",
    "ozone_mort = ozone.merge(mort_15, how='left', left_on=['location_id'], right_on=['location_id'])\n",
    "ozone_mort_age = ozone_mort.merge(age_15, how='left', left_on=['location_id','year','location_name'], right_on=['location_id','year','location_name'])"
   ]
  },
  {
   "cell_type": "markdown",
   "id": "91f4347d-3fbe-4460-aa04-28d3b3c032b7",
   "metadata": {},
   "source": [
    "#### Here we prescribe all necessary parameters: multi-cause exposure-response RRs with 95% CIs, and the low-concentration cut-off (LCC, or threshold). The pooled RRs are estimated by meta-analysis (see a \"tutorial\" code file). The LCC value(s) are defined as the lowest 5 𝑡ℎ  percentile of the multi-data fused ambient ozone dataset (only considering the residential land areas) following Malley et al. 2017."
   ]
  },
  {
   "cell_type": "code",
   "execution_count": 3,
   "id": "e74f4571-6014-41ac-9fd5-46ef00b36a80",
   "metadata": {},
   "outputs": [],
   "source": [
    "lnRR_cvd = np.log(1.017)\n",
    "lnRR_sigma_cvd = (np.log(1.025) - np.log(1.017))/1.96 \n",
    "LCC = 40"
   ]
  },
  {
   "cell_type": "markdown",
   "id": "ddb3f6b7-f2f2-4748-afa3-f6ae5b1e8cbd",
   "metadata": {},
   "source": [
    "#### For the sake of quick computation (e.g. less than 10 minutes on JASMIN supercomputation system) as a demonstration, we have simplified some trivial aspects: (1) we cluster the age ≥25 population rather than 5-yr stratification. (2) we do not calculate the arithmetic mean and standard deviations, as we choose to report the median with 95% uncertainty intervals. "
   ]
  },
  {
   "cell_type": "code",
   "execution_count": 4,
   "id": "0b581e66-05c8-4193-a7cb-16c973a111a8",
   "metadata": {},
   "outputs": [
    {
     "name": "stdout",
     "output_type": "stream",
     "text": [
      "0\n",
      "150000\n",
      "250000\n",
      "300000\n",
      "350000\n",
      "400000\n",
      "450000\n",
      "500000\n",
      "650000\n",
      "700000\n",
      "Time used: 1631.913023647 s\n"
     ]
    }
   ],
   "source": [
    "data = ozone_mort_age\n",
    "start = time.process_time()\n",
    "\n",
    "for t in range(0,742299,1):\n",
    "    \n",
    "    ## Extract the age ≥25 risked proportion \n",
    "    pop_all_age       = data.iloc[t,58]\n",
    "    pop_all_age_sigma = (data.iloc[t,58]-data.iloc[t,59])/1.96\n",
    "    pop_25_age        = data.iloc[t,97]\n",
    "    pop_25_age_sigma  = (data.iloc[t,97]-data.iloc[t,98])/1.96\n",
    "    \n",
    "    ## Extract the baseline mortality rate \n",
    "    cvd_25_mort            = data.iloc[t,19]\n",
    "    cvd_25_mort_sigma      = (data.iloc[t,19]-data.iloc[t,20])/1.96\n",
    "    \n",
    "    ## Extract urban and rural population and MDA8h-ozone exposure \n",
    "    pop_urban_grid = data.iloc[t,7] \n",
    "    o3_mda8h_urban = data.iloc[t,9] \n",
    "    pop_rural_grid = data.iloc[t,8] \n",
    "    o3_mda8h_rural = data.iloc[t,10] \n",
    "\n",
    "    ## Convert into the hazadous dose from exposure concentration\n",
    "    o3_mda8h_urban_dose = max(0,o3_mda8h_urban - LCC) \n",
    "    o3_mda8h_rural_dose = max(0,o3_mda8h_rural - LCC) \n",
    "    \n",
    "    ## Generate Gaussian distributed samples \n",
    "    pop_all_age_dist      = np.random.normal(pop_all_age, pop_all_age_sigma, 1000) \n",
    "    pop_25_age_dist       = np.random.normal(pop_25_age,  pop_25_age_sigma,  1000)\n",
    "    \n",
    "    cvd_25_mort_dist      = np.random.normal(cvd_25_mort, cvd_25_mort_sigma, 1000)\n",
    "    \n",
    "    RR_dist_cvd           = np.random.normal(lnRR_cvd,    lnRR_sigma_cvd,    1000)\n",
    "    \n",
    "    ## Start the Monte Carlo bootstrap simulation realisations \n",
    "    delta_mort_cvd_urban  = cvd_25_mort_dist * (1 - np.exp(- RR_dist_cvd * o3_mda8h_urban_dose/10)) * pop_urban_grid * pop_25_age_dist / pop_all_age_dist / 100000 \n",
    "    delta_mort_cvd_rural  = cvd_25_mort_dist * (1 - np.exp(- RR_dist_cvd * o3_mda8h_rural_dose/10)) * pop_rural_grid * pop_25_age_dist / pop_all_age_dist / 100000 \n",
    "    \n",
    "    ## Summarise the results    \n",
    "    est_cvd_urban = np.nanpercentile(delta_mort_cvd_urban,50) \n",
    "    lb_cvd_urban  = np.nanpercentile(delta_mort_cvd_urban,2.5)\n",
    "    ub_cvd_urban  = np.nanpercentile(delta_mort_cvd_urban,97.5)\n",
    "\n",
    "    est_cvd_rural = np.nanpercentile(delta_mort_cvd_rural,50) \n",
    "    lb_cvd_rural  = np.nanpercentile(delta_mort_cvd_rural,2.5)\n",
    "    ub_cvd_rural  = np.nanpercentile(delta_mort_cvd_rural,97.5)\n",
    "    \n",
    "    ## Store the distribution statistics into the DataFrame \n",
    "    data.iloc[t,11]  = est_cvd_urban\n",
    "    data.iloc[t,12]  =  lb_cvd_urban\n",
    "    data.iloc[t,13]  =  ub_cvd_urban\n",
    "\n",
    "    data.iloc[t,14]  = est_cvd_rural\n",
    "    data.iloc[t,15]  =  lb_cvd_rural\n",
    "    data.iloc[t,16]  =  ub_cvd_rural\n",
    "    \n",
    "    if t%50000 == 0:\n",
    "        print(t) ## Add a tracer to check the simulation progresses \n",
    "    \n",
    "elapsed = (time.process_time() - start)\n",
    "print('Time used:', elapsed, \"s\")    "
   ]
  },
  {
   "cell_type": "code",
   "execution_count": 5,
   "id": "7010b17d-ecf3-4bb1-9bd1-49910b2f64ea",
   "metadata": {},
   "outputs": [
    {
     "data": {
      "text/plain": [
       "257991.18999525803"
      ]
     },
     "execution_count": 5,
     "metadata": {},
     "output_type": "execute_result"
    }
   ],
   "source": [
    "data['cvd_25_death_urban_est'].sum()"
   ]
  },
  {
   "cell_type": "code",
   "execution_count": 6,
   "id": "6c219120-cc61-44b4-b6cd-fba7d5ec2ef5",
   "metadata": {},
   "outputs": [
    {
     "data": {
      "text/plain": [
       "137721.85678636807"
      ]
     },
     "execution_count": 6,
     "metadata": {},
     "output_type": "execute_result"
    }
   ],
   "source": [
    "data['cvd_25_death_urban_lb'].sum()"
   ]
  },
  {
   "cell_type": "code",
   "execution_count": 7,
   "id": "aba1e181-f085-4be4-800b-0635a9f3e44a",
   "metadata": {},
   "outputs": [
    {
     "data": {
      "text/plain": [
       "390153.251988714"
      ]
     },
     "execution_count": 7,
     "metadata": {},
     "output_type": "execute_result"
    }
   ],
   "source": [
    "data['cvd_25_death_urban_ub'].sum()"
   ]
  },
  {
   "cell_type": "code",
   "execution_count": 8,
   "id": "bb8973e9-a377-4cd5-8828-df4a452930ea",
   "metadata": {},
   "outputs": [
    {
     "data": {
      "text/plain": [
       "316640.62185115466"
      ]
     },
     "execution_count": 8,
     "metadata": {},
     "output_type": "execute_result"
    }
   ],
   "source": [
    "data['cvd_25_death_rural_est'].sum()"
   ]
  },
  {
   "cell_type": "code",
   "execution_count": 9,
   "id": "6ed2b7bb-d5f3-483d-9360-68264e22622c",
   "metadata": {},
   "outputs": [
    {
     "data": {
      "text/plain": [
       "169089.19384975958"
      ]
     },
     "execution_count": 9,
     "metadata": {},
     "output_type": "execute_result"
    }
   ],
   "source": [
    "data['cvd_25_death_rural_lb'].sum()"
   ]
  },
  {
   "cell_type": "code",
   "execution_count": 10,
   "id": "e1c61a6a-600f-4d7a-8d26-45c4780fa7ad",
   "metadata": {},
   "outputs": [
    {
     "data": {
      "text/plain": [
       "479226.85130981926"
      ]
     },
     "execution_count": 10,
     "metadata": {},
     "output_type": "execute_result"
    }
   ],
   "source": [
    "data['cvd_25_death_rural_ub'].sum()"
   ]
  },
  {
   "cell_type": "code",
   "execution_count": null,
   "id": "20e1c8e8-7c21-4750-bd23-7484578071fd",
   "metadata": {},
   "outputs": [],
   "source": [
    "data.to_csv('ozone-cvd-mortality-2015(v0).csv', index=False)"
   ]
  },
  {
   "cell_type": "code",
   "execution_count": null,
   "id": "d98bdeaf-b2a0-4f3b-8272-91e975e4da9f",
   "metadata": {},
   "outputs": [],
   "source": []
  }
 ],
 "metadata": {
  "kernelspec": {
   "display_name": "Python 3 + Jaspy",
   "language": "python",
   "name": "jaspy"
  },
  "language_info": {
   "codemirror_mode": {
    "name": "ipython",
    "version": 3
   },
   "file_extension": ".py",
   "mimetype": "text/x-python",
   "name": "python",
   "nbconvert_exporter": "python",
   "pygments_lexer": "ipython3",
   "version": "3.10.5"
  }
 },
 "nbformat": 4,
 "nbformat_minor": 5
}
