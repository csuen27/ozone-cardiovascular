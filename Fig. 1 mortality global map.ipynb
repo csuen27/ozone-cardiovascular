{
 "cells": [
  {
   "cell_type": "code",
   "execution_count": 1,
   "id": "8c89c1d1-a7eb-492d-84b6-051d585b1220",
   "metadata": {},
   "outputs": [],
   "source": [
    "import pandas as pd\n",
    "import numpy as np\n",
    "import time\n",
    "import warnings\n",
    "warnings.filterwarnings(\"ignore\")"
   ]
  },
  {
   "cell_type": "code",
   "execution_count": 2,
   "id": "71791de8-bd1d-42a8-aa8a-f3894acecc92",
   "metadata": {},
   "outputs": [],
   "source": [
    "data = pd.read_csv('~/ozone-mortality/ozone-cvd-mortality-2019(v0).csv')\n",
    "M49 = pd.read_csv('~/Health/M49 list.csv')\n",
    "data_M49 = data.merge(M49, how = 'left', left_on = ['arcgis_ID'], right_on = ['arcgisID'])"
   ]
  },
  {
   "cell_type": "markdown",
   "id": "e44aab2e-ccc0-4fc9-95f2-dc877a5933bf",
   "metadata": {},
   "source": [
    "#### This is to calculate the country-level premature death numbers. The exported csv file can be loaded in ArcGIS for geographical mapping. "
   ]
  },
  {
   "cell_type": "code",
   "execution_count": 3,
   "id": "9eb5f04b-5913-4315-98fa-564471d85f77",
   "metadata": {},
   "outputs": [],
   "source": [
    "country_mort = data_M49.groupby(['country']).sum()[['population_urban_19','population_rural_19',\n",
    "                                                    'cvd_25_death_urban_est','cvd_25_death_rural_est']]\n",
    "country_mort.to_csv('Fig. 1 country-level mortality map.csv', index=True)"
   ]
  },
  {
   "cell_type": "markdown",
   "id": "bce86122-496e-4693-8e84-813aa16c5261",
   "metadata": {},
   "source": [
    "#### Now calculate the country-level mortality rate. The exported csv file can be loaded in ArcGIS for geographical mapping. . The exported csv file can be loaded in ArcGIS for geographical mapping. "
   ]
  },
  {
   "cell_type": "code",
   "execution_count": 4,
   "id": "7be18e0b-809c-4e23-9bcb-586ef53da711",
   "metadata": {},
   "outputs": [],
   "source": [
    "country_risked_pop_frac = data_M49.groupby(['country']).mean()[['pop_all','pop_25plus']]\n",
    "country_risked_pop_frac['pop_25plus_frac'] = country_risked_pop_frac['pop_25plus']/country_risked_pop_frac['pop_all']\n",
    "\n",
    "country_mort_pop = country_mort.merge(country_risked_pop_frac, how='left', left_index=True, right_index=True)\n",
    "\n",
    "country_mort_pop['urban_cvd_rate'] = country_mort_pop['cvd_25_death_urban_est']/(country_mort_pop['population_urban_19']*country_mort_pop['pop_25plus_frac'])*100000\n",
    "country_mort_pop['rural_cvd_rate'] = country_mort_pop['cvd_25_death_rural_est']/(country_mort_pop['population_rural_19']*country_mort_pop['pop_25plus_frac'])*100000"
   ]
  },
  {
   "cell_type": "code",
   "execution_count": 5,
   "id": "2d33fd61-cf7c-4bea-aad3-821d2db4fc9d",
   "metadata": {},
   "outputs": [],
   "source": [
    "country_mort_pop.to_csv('Fig. S3 country-level mortality rate map.csv', index=True)"
   ]
  }
 ],
 "metadata": {
  "kernelspec": {
   "display_name": "Python 3 + Jaspy",
   "language": "python",
   "name": "jaspy"
  },
  "language_info": {
   "codemirror_mode": {
    "name": "ipython",
    "version": 3
   },
   "file_extension": ".py",
   "mimetype": "text/x-python",
   "name": "python",
   "nbconvert_exporter": "python",
   "pygments_lexer": "ipython3",
   "version": "3.10.5"
  }
 },
 "nbformat": 4,
 "nbformat_minor": 5
}
