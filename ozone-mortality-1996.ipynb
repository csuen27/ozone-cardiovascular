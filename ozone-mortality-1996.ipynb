{
 "cells": [
  {
   "cell_type": "code",
   "execution_count": 1,
   "id": "de498040-57be-4a0f-b7c8-7089cb41d1ab",
   "metadata": {},
   "outputs": [],
   "source": [
    "import pandas as pd\n",
    "import numpy as np\n",
    "import time\n",
    "import warnings\n",
    "warnings.filterwarnings(\"ignore\")"
   ]
  },
  {
   "cell_type": "code",
   "execution_count": 2,
   "id": "f15bce79-cb98-40a0-9bbf-1c33be108476",
   "metadata": {},
   "outputs": [],
   "source": [
    "data = pd.read_csv('~/Health/ozone_96_mort_est_total(1119).csv')\n",
    "\n",
    "ozone = data[['loc','longitude','latitude',\n",
    "              'arcgis_ID','location_id','cont_new_ID',\n",
    "              'population_total_96','population_urban_96','population_rural_96',\n",
    "              'MDA8h_urban_warm_96','MDA8h_rural_warm_96',\n",
    "              'cvd_25_death_urban_est','cvd_25_death_urban_lb','cvd_25_death_urban_ub','cvd_25_death_rural_est','cvd_25_death_rural_lb','cvd_25_death_rural_ub']]\n",
    "ozone = ozone.rename(columns={'cont_new_ID':'cont_ID'})\n",
    "\n",
    "age_96 = pd.read_csv('~/ozone-mortality/age structure list/age_96_list.csv')\n",
    "mort_96 = pd.read_csv('~/ozone-mortality/mortality list/mort_96_list.csv')\n",
    "ozone_mort = ozone.merge(mort_96, how='left', left_on=['location_id'], right_on=['location_id'])\n",
    "ozone_mort_age = ozone_mort.merge(age_96, how='left', left_on=['location_id','year','location_name'], right_on=['location_id','year','location_name'])"
   ]
  },
  {
   "cell_type": "markdown",
   "id": "91f4347d-3fbe-4460-aa04-28d3b3c032b7",
   "metadata": {},
   "source": [
    "#### Here we prescribe all necessary parameters: multi-cause exposure-response RRs with 95% CIs, and the low-concentration cut-off (LCC, or threshold). The pooled RRs are estimated by meta-analysis (see a \"tutorial\" code file). The LCC value(s) are defined as the lowest 5 𝑡ℎ  percentile of the multi-data fused ambient ozone dataset (only considering the residential land areas) following Malley et al. 2017."
   ]
  },
  {
   "cell_type": "code",
   "execution_count": 3,
   "id": "e74f4571-6014-41ac-9fd5-46ef00b36a80",
   "metadata": {},
   "outputs": [],
   "source": [
    "lnRR_cvd = np.log(1.017)\n",
    "lnRR_sigma_cvd = (np.log(1.025) - np.log(1.017))/1.96 \n",
    "LCC = 40"
   ]
  },
  {
   "cell_type": "markdown",
   "id": "ddb3f6b7-f2f2-4748-afa3-f6ae5b1e8cbd",
   "metadata": {},
   "source": [
    "#### For the sake of quick computation (e.g. less than 10 minutes on JASMIN supercomputation system) as a demonstration, we have simplified some trivial aspects: (1) we cluster the age ≥25 population rather than 5-yr stratification. (2) we do not calculate the arithmetic mean and standard deviations, as we choose to report the median with 95% uncertainty intervals. "
   ]
  },
  {
   "cell_type": "code",
   "execution_count": 4,
   "id": "0b581e66-05c8-4193-a7cb-16c973a111a8",
   "metadata": {},
   "outputs": [
    {
     "name": "stdout",
     "output_type": "stream",
     "text": [
      "0\n",
      "5000\n",
      "10000\n",
      "15000\n",
      "20000\n",
      "25000\n",
      "30000\n",
      "35000\n",
      "40000\n",
      "45000\n",
      "50000\n",
      "55000\n",
      "60000\n",
      "65000\n",
      "70000\n",
      "75000\n",
      "80000\n",
      "85000\n",
      "90000\n",
      "95000\n",
      "100000\n",
      "105000\n",
      "110000\n",
      "115000\n",
      "120000\n",
      "125000\n",
      "130000\n",
      "135000\n",
      "140000\n",
      "145000\n",
      "150000\n",
      "155000\n",
      "160000\n",
      "165000\n",
      "170000\n",
      "175000\n",
      "180000\n",
      "185000\n",
      "190000\n",
      "195000\n",
      "200000\n",
      "205000\n",
      "210000\n",
      "215000\n",
      "220000\n",
      "225000\n",
      "230000\n",
      "235000\n",
      "240000\n",
      "245000\n",
      "250000\n",
      "255000\n",
      "260000\n",
      "265000\n",
      "270000\n",
      "275000\n",
      "280000\n",
      "285000\n",
      "290000\n",
      "295000\n",
      "300000\n",
      "305000\n",
      "310000\n",
      "315000\n",
      "320000\n",
      "325000\n",
      "330000\n",
      "335000\n",
      "340000\n",
      "345000\n",
      "350000\n",
      "355000\n",
      "360000\n",
      "365000\n",
      "370000\n",
      "375000\n",
      "380000\n",
      "385000\n",
      "390000\n",
      "395000\n",
      "400000\n",
      "405000\n",
      "410000\n",
      "415000\n",
      "420000\n",
      "425000\n",
      "430000\n",
      "435000\n",
      "440000\n",
      "445000\n",
      "450000\n",
      "455000\n",
      "460000\n",
      "465000\n",
      "470000\n",
      "475000\n",
      "480000\n",
      "485000\n",
      "490000\n",
      "495000\n",
      "500000\n",
      "505000\n",
      "510000\n",
      "515000\n",
      "520000\n",
      "525000\n",
      "530000\n",
      "535000\n",
      "540000\n",
      "545000\n",
      "550000\n",
      "555000\n",
      "560000\n",
      "565000\n",
      "570000\n",
      "575000\n",
      "580000\n",
      "585000\n",
      "590000\n",
      "595000\n",
      "600000\n",
      "605000\n",
      "610000\n",
      "615000\n",
      "620000\n",
      "625000\n",
      "630000\n",
      "635000\n",
      "640000\n",
      "645000\n",
      "650000\n",
      "655000\n",
      "660000\n",
      "665000\n",
      "670000\n",
      "675000\n",
      "680000\n",
      "685000\n",
      "690000\n",
      "695000\n",
      "700000\n",
      "705000\n",
      "710000\n",
      "715000\n",
      "720000\n",
      "725000\n",
      "730000\n",
      "735000\n",
      "740000\n",
      "Time used: 1477.625282339 s\n"
     ]
    }
   ],
   "source": [
    "data = ozone_mort_age\n",
    "start = time.process_time()\n",
    "\n",
    "for t in range(0,742299,1):\n",
    "    \n",
    "    ## Extract the age ≥25 risked proportion \n",
    "    pop_all_age       = data.iloc[t,58]\n",
    "    pop_all_age_sigma = (data.iloc[t,58]-data.iloc[t,59])/1.96\n",
    "    pop_25_age        = data.iloc[t,97]\n",
    "    pop_25_age_sigma  = (data.iloc[t,97]-data.iloc[t,98])/1.96\n",
    "    \n",
    "    ## Extract the baseline mortality rate \n",
    "    cvd_25_mort            = data.iloc[t,19]\n",
    "    cvd_25_mort_sigma      = (data.iloc[t,19]-data.iloc[t,20])/1.96\n",
    "    \n",
    "    ## Extract urban and rural population and MDA8h-ozone exposure \n",
    "    pop_urban_grid = data.iloc[t,7] \n",
    "    o3_mda8h_urban = data.iloc[t,9] \n",
    "    pop_rural_grid = data.iloc[t,8] \n",
    "    o3_mda8h_rural = data.iloc[t,10] \n",
    "\n",
    "    ## Convert into the hazadous dose from exposure concentration\n",
    "    o3_mda8h_urban_dose = max(0,o3_mda8h_urban - LCC) \n",
    "    o3_mda8h_rural_dose = max(0,o3_mda8h_rural - LCC) \n",
    "    \n",
    "    ## Generate Gaussian distributed samples \n",
    "    pop_all_age_dist      = np.random.normal(pop_all_age, pop_all_age_sigma, 1000) \n",
    "    pop_25_age_dist       = np.random.normal(pop_25_age,  pop_25_age_sigma,  1000)\n",
    "    \n",
    "    cvd_25_mort_dist      = np.random.normal(cvd_25_mort, cvd_25_mort_sigma, 1000)\n",
    "    \n",
    "    RR_dist_cvd           = np.random.normal(lnRR_cvd,    lnRR_sigma_cvd,    1000)\n",
    "    \n",
    "    ## Start the Monte Carlo bootstrap simulation realisations \n",
    "    delta_mort_cvd_urban  = cvd_25_mort_dist * (1 - np.exp(- RR_dist_cvd * o3_mda8h_urban_dose/10)) * pop_urban_grid * pop_25_age_dist / pop_all_age_dist / 100000 \n",
    "    delta_mort_cvd_rural  = cvd_25_mort_dist * (1 - np.exp(- RR_dist_cvd * o3_mda8h_rural_dose/10)) * pop_rural_grid * pop_25_age_dist / pop_all_age_dist / 100000 \n",
    "    \n",
    "    ## Summarise the results    \n",
    "    est_cvd_urban = np.nanpercentile(delta_mort_cvd_urban,50) \n",
    "    lb_cvd_urban  = np.nanpercentile(delta_mort_cvd_urban,2.5)\n",
    "    ub_cvd_urban  = np.nanpercentile(delta_mort_cvd_urban,97.5)\n",
    "\n",
    "    est_cvd_rural = np.nanpercentile(delta_mort_cvd_rural,50) \n",
    "    lb_cvd_rural  = np.nanpercentile(delta_mort_cvd_rural,2.5)\n",
    "    ub_cvd_rural  = np.nanpercentile(delta_mort_cvd_rural,97.5)\n",
    "    \n",
    "    ## Store the distribution statistics into the DataFrame \n",
    "    data.iloc[t,11]  = est_cvd_urban\n",
    "    data.iloc[t,12]  =  lb_cvd_urban\n",
    "    data.iloc[t,13]  =  ub_cvd_urban\n",
    "\n",
    "    data.iloc[t,14]  = est_cvd_rural\n",
    "    data.iloc[t,15]  =  lb_cvd_rural\n",
    "    data.iloc[t,16]  =  ub_cvd_rural\n",
    "    \n",
    "    if t%5000 == 0:\n",
    "        print(t) ## Add a tracer to check the simulation progresses \n",
    "    \n",
    "elapsed = (time.process_time() - start)\n",
    "print('Time used:', elapsed, \"s\")    "
   ]
  },
  {
   "cell_type": "code",
   "execution_count": 5,
   "id": "7010b17d-ecf3-4bb1-9bd1-49910b2f64ea",
   "metadata": {},
   "outputs": [
    {
     "data": {
      "text/plain": [
       "133824.5343292148"
      ]
     },
     "execution_count": 5,
     "metadata": {},
     "output_type": "execute_result"
    }
   ],
   "source": [
    "data['cvd_25_death_urban_est'].sum()"
   ]
  },
  {
   "cell_type": "code",
   "execution_count": 6,
   "id": "6c219120-cc61-44b4-b6cd-fba7d5ec2ef5",
   "metadata": {},
   "outputs": [
    {
     "data": {
      "text/plain": [
       "71421.09765825965"
      ]
     },
     "execution_count": 6,
     "metadata": {},
     "output_type": "execute_result"
    }
   ],
   "source": [
    "data['cvd_25_death_urban_lb'].sum()"
   ]
  },
  {
   "cell_type": "code",
   "execution_count": 7,
   "id": "aba1e181-f085-4be4-800b-0635a9f3e44a",
   "metadata": {},
   "outputs": [
    {
     "data": {
      "text/plain": [
       "201496.5094117354"
      ]
     },
     "execution_count": 7,
     "metadata": {},
     "output_type": "execute_result"
    }
   ],
   "source": [
    "data['cvd_25_death_urban_ub'].sum()"
   ]
  },
  {
   "cell_type": "code",
   "execution_count": 8,
   "id": "bb8973e9-a377-4cd5-8828-df4a452930ea",
   "metadata": {},
   "outputs": [
    {
     "data": {
      "text/plain": [
       "284825.64609822724"
      ]
     },
     "execution_count": 8,
     "metadata": {},
     "output_type": "execute_result"
    }
   ],
   "source": [
    "data['cvd_25_death_rural_est'].sum()"
   ]
  },
  {
   "cell_type": "code",
   "execution_count": 9,
   "id": "6ed2b7bb-d5f3-483d-9360-68264e22622c",
   "metadata": {},
   "outputs": [
    {
     "data": {
      "text/plain": [
       "152228.70535227712"
      ]
     },
     "execution_count": 9,
     "metadata": {},
     "output_type": "execute_result"
    }
   ],
   "source": [
    "data['cvd_25_death_rural_lb'].sum()"
   ]
  },
  {
   "cell_type": "code",
   "execution_count": 10,
   "id": "e1c61a6a-600f-4d7a-8d26-45c4780fa7ad",
   "metadata": {},
   "outputs": [
    {
     "data": {
      "text/plain": [
       "429267.0549533321"
      ]
     },
     "execution_count": 10,
     "metadata": {},
     "output_type": "execute_result"
    }
   ],
   "source": [
    "data['cvd_25_death_rural_ub'].sum()"
   ]
  },
  {
   "cell_type": "code",
   "execution_count": 11,
   "id": "20e1c8e8-7c21-4750-bd23-7484578071fd",
   "metadata": {},
   "outputs": [],
   "source": [
    "data.to_csv('ozone-cvd-mortality-1996(v0).csv', index=False)"
   ]
  },
  {
   "cell_type": "code",
   "execution_count": null,
   "id": "d98bdeaf-b2a0-4f3b-8272-91e975e4da9f",
   "metadata": {},
   "outputs": [],
   "source": []
  }
 ],
 "metadata": {
  "kernelspec": {
   "display_name": "Python 3 + Jaspy",
   "language": "python",
   "name": "jaspy"
  },
  "language_info": {
   "codemirror_mode": {
    "name": "ipython",
    "version": 3
   },
   "file_extension": ".py",
   "mimetype": "text/x-python",
   "name": "python",
   "nbconvert_exporter": "python",
   "pygments_lexer": "ipython3",
   "version": "3.10.5"
  }
 },
 "nbformat": 4,
 "nbformat_minor": 5
}
