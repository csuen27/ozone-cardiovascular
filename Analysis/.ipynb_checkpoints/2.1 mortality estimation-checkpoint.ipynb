{
 "cells": [
  {
   "cell_type": "markdown",
   "metadata": {},
   "source": [
    "#### Statistics for the cardiovascular mortality"
   ]
  },
  {
   "cell_type": "code",
   "execution_count": 1,
   "metadata": {},
   "outputs": [],
   "source": [
    "import pandas as pd\n",
    "import numpy as np\n",
    "import time\n",
    "import warnings\n",
    "warnings.filterwarnings(\"ignore\")"
   ]
  },
  {
   "cell_type": "markdown",
   "metadata": {},
   "source": [
    "#### Statistics for 1990"
   ]
  },
  {
   "cell_type": "code",
   "execution_count": 2,
   "metadata": {},
   "outputs": [],
   "source": [
    "data = pd.read_csv('~/ozone-mortality/ozone-cvd-mortality-1990(v0).csv')"
   ]
  },
  {
   "cell_type": "code",
   "execution_count": 3,
   "metadata": {},
   "outputs": [],
   "source": [
    "urban_est = np.int(np.round(data['cvd_25_death_urban_est'].sum(),-2))\n",
    "urban_lb  = np.int(np.round(data['cvd_25_death_urban_lb'].sum(),-2))\n",
    "urban_ub  = np.int(np.round(data['cvd_25_death_urban_ub'].sum(),-2))\n",
    "\n",
    "rural_est = np.int(np.round(data['cvd_25_death_rural_est'].sum(),-2))\n",
    "rural_lb  = np.int(np.round(data['cvd_25_death_rural_lb'].sum(),-2))\n",
    "rural_ub  = np.int(np.round(data['cvd_25_death_rural_ub'].sum(),-2))\n",
    "\n",
    "total_est = urban_est+rural_est \n",
    "total_lb  = urban_lb+rural_lb \n",
    "total_ub  = urban_ub+rural_ub "
   ]
  },
  {
   "cell_type": "markdown",
   "metadata": {},
   "source": [
    "#### Calculate the premature death numbers of urban and rural excess mortalities"
   ]
  },
  {
   "cell_type": "code",
   "execution_count": 4,
   "metadata": {},
   "outputs": [
    {
     "name": "stdout",
     "output_type": "stream",
     "text": [
      "total cardiovascular mortality:  377600, 95% UI: [202100, 565400]\n",
      "urban cardiovascular mortality:  114900, 95% UI:  [61500, 171700]\n",
      "rural cardiovascular mortality:  262700, 95% UI: [140600, 393700]\n"
     ]
    }
   ],
   "source": [
    "print(\"total cardiovascular mortality:  \"+str(total_est)+\", 95% UI: [\"+str(total_lb)+\", \"+str(total_ub)+\"]\")\n",
    "print(\"urban cardiovascular mortality:  \"+str(urban_est)+\", 95% UI:  [\"+str(urban_lb)+\", \"+str(urban_ub)+\"]\")\n",
    "print(\"rural cardiovascular mortality:  \"+str(rural_est)+\", 95% UI: [\"+str(rural_lb)+\", \"+str(rural_ub)+\"]\")"
   ]
  },
  {
   "cell_type": "markdown",
   "metadata": {},
   "source": [
    "#### Calculate the fractions of urban and rural excess mortalities"
   ]
  },
  {
   "cell_type": "code",
   "execution_count": 5,
   "metadata": {},
   "outputs": [
    {
     "name": "stdout",
     "output_type": "stream",
     "text": [
      "urban mortality fraction:  30.4 %\n",
      "rural mortality fraction:  69.6 %\n"
     ]
    }
   ],
   "source": [
    "urban_frac = np.round(urban_est/total_est*100,1)\n",
    "rural_frac = np.round(rural_est/total_est*100,1)\n",
    "\n",
    "print(\"urban mortality fraction:  \"+str(urban_frac)+\" %\")\n",
    "print(\"rural mortality fraction:  \"+str(rural_frac)+\" %\")"
   ]
  },
  {
   "cell_type": "markdown",
   "metadata": {},
   "source": [
    "#### Statistics for 2019"
   ]
  },
  {
   "cell_type": "code",
   "execution_count": 6,
   "metadata": {},
   "outputs": [],
   "source": [
    "data = pd.read_csv('~/ozone-mortality/ozone-cvd-mortality-2019(v0).csv')"
   ]
  },
  {
   "cell_type": "code",
   "execution_count": 7,
   "metadata": {},
   "outputs": [],
   "source": [
    "urban_est = np.int(np.round(data['cvd_25_death_urban_est'].sum(),-2))\n",
    "urban_lb  = np.int(np.round(data['cvd_25_death_urban_lb'].sum(),-2))\n",
    "urban_ub  = np.int(np.round(data['cvd_25_death_urban_ub'].sum(),-2))\n",
    "\n",
    "rural_est = np.int(np.round(data['cvd_25_death_rural_est'].sum(),-2))\n",
    "rural_lb  = np.int(np.round(data['cvd_25_death_rural_lb'].sum(),-2))\n",
    "rural_ub  = np.int(np.round(data['cvd_25_death_rural_ub'].sum(),-2))\n",
    "\n",
    "total_est = urban_est+rural_est \n",
    "total_lb  = urban_lb+rural_lb \n",
    "total_ub  = urban_ub+rural_ub "
   ]
  },
  {
   "cell_type": "markdown",
   "metadata": {},
   "source": [
    "#### Calculate the premature death numbers of urban and rural excess mortalities"
   ]
  },
  {
   "cell_type": "code",
   "execution_count": 8,
   "metadata": {},
   "outputs": [
    {
     "name": "stdout",
     "output_type": "stream",
     "text": [
      "total cardiovascular mortality:  552000, 95% UI: [290700, 859400]\n",
      "urban cardiovascular mortality:  262500, 95% UI: [138300, 408400]\n",
      "rural cardiovascular mortality:  289500, 95% UI: [152400, 451000]\n"
     ]
    }
   ],
   "source": [
    "print(\"total cardiovascular mortality:  \"+str(total_est)+\", 95% UI: [\"+str(total_lb)+\", \"+str(total_ub)+\"]\")\n",
    "print(\"urban cardiovascular mortality:  \"+str(urban_est)+\", 95% UI: [\"+str(urban_lb)+\", \"+str(urban_ub)+\"]\")\n",
    "print(\"rural cardiovascular mortality:  \"+str(rural_est)+\", 95% UI: [\"+str(rural_lb)+\", \"+str(rural_ub)+\"]\")"
   ]
  },
  {
   "cell_type": "markdown",
   "metadata": {},
   "source": [
    "#### Calculate the fractions of urban and rural excess mortalities"
   ]
  },
  {
   "cell_type": "code",
   "execution_count": 9,
   "metadata": {},
   "outputs": [
    {
     "name": "stdout",
     "output_type": "stream",
     "text": [
      "urban mortality fraction:  47.6 %\n",
      "rural mortality fraction:  52.4 %\n"
     ]
    }
   ],
   "source": [
    "urban_frac = np.round(urban_est/total_est*100,1)\n",
    "rural_frac = np.round(rural_est/total_est*100,1)\n",
    "\n",
    "print(\"urban mortality fraction:  \"+str(urban_frac)+\" %\")\n",
    "print(\"rural mortality fraction:  \"+str(rural_frac)+\" %\")"
   ]
  },
  {
   "cell_type": "code",
   "execution_count": 10,
   "metadata": {},
   "outputs": [
    {
     "name": "stdout",
     "output_type": "stream",
     "text": [
      "rural cardiovascular mortality excession:  27000, 95% UI: [14100, 42600]\n"
     ]
    }
   ],
   "source": [
    "diff_est = rural_est - urban_est\n",
    "diff_lb = rural_lb - urban_lb\n",
    "diff_ub = rural_ub - urban_ub\n",
    "\n",
    "print(\"rural cardiovascular mortality excession:  \"+str(diff_est)+\", 95% UI: [\"+str(diff_lb)+\", \"+str(diff_ub)+\"]\")"
   ]
  }
 ],
 "metadata": {
  "kernelspec": {
   "display_name": "Python 3",
   "language": "python",
   "name": "python3"
  },
  "language_info": {
   "codemirror_mode": {
    "name": "ipython",
    "version": 3
   },
   "file_extension": ".py",
   "mimetype": "text/x-python",
   "name": "python",
   "nbconvert_exporter": "python",
   "pygments_lexer": "ipython3",
   "version": "3.8.5"
  }
 },
 "nbformat": 4,
 "nbformat_minor": 5
}
