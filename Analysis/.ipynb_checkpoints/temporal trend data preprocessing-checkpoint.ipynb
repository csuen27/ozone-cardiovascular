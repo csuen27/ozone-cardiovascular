{
 "cells": [
  {
   "cell_type": "code",
   "execution_count": 1,
   "id": "f5463e97",
   "metadata": {},
   "outputs": [],
   "source": [
    "import pandas as pd\n",
    "import numpy as np\n",
    "import time\n",
    "import warnings\n",
    "warnings.filterwarnings(\"ignore\")"
   ]
  },
  {
   "cell_type": "code",
   "execution_count": 10,
   "id": "90cff533",
   "metadata": {},
   "outputs": [],
   "source": [
    "mort_GB = pd.read_csv('/Volumes/Database/Backups/202304 JASMIN/results presentation/Fig. 2 mort global trend.csv')\n",
    "mort_NA = pd.read_csv('/Volumes/Database/Backups/202304 JASMIN/results presentation/Fig. 2 mort North America trend.csv')\n",
    "mort_AS = pd.read_csv('/Volumes/Database/Backups/202304 JASMIN/results presentation/Fig. 2 mort Asia trend.csv')\n",
    "mort_AF = pd.read_csv('/Volumes/Database/Backups/202304 JASMIN/results presentation/Fig. 2 mort Africa trend.csv')\n",
    "mort_EU = pd.read_csv('/Volumes/Database/Backups/202304 JASMIN/results presentation/Fig. 2 mort Europe trend.csv')\n",
    "mort_SA = pd.read_csv('/Volumes/Database/Backups/202304 JASMIN/results presentation/Fig. 2 mort South America trend.csv')"
   ]
  },
  {
   "cell_type": "code",
   "execution_count": 11,
   "id": "be1eedae",
   "metadata": {},
   "outputs": [],
   "source": [
    "year = np.arange(1990,2020,1)"
   ]
  },
  {
   "cell_type": "code",
   "execution_count": 12,
   "id": "c52233f7",
   "metadata": {},
   "outputs": [],
   "source": [
    "mort_GB['year'] = year\n",
    "mort_NA['year'] = year\n",
    "mort_AS['year'] = year\n",
    "mort_AF['year'] = year\n",
    "mort_EU['year'] = year\n",
    "mort_SA['year'] = year"
   ]
  },
  {
   "cell_type": "code",
   "execution_count": 13,
   "id": "e8fff0da",
   "metadata": {},
   "outputs": [],
   "source": [
    "mort_GB.to_csv('/Volumes/Database/Backups/202304 JASMIN/results presentation/Fig. 2 mort global year-trend.csv', index=False)\n",
    "mort_NA.to_csv('/Volumes/Database/Backups/202304 JASMIN/results presentation/Fig. 2 mort North America year-trend.csv', index=False)\n",
    "mort_AS.to_csv('/Volumes/Database/Backups/202304 JASMIN/results presentation/Fig. 2 mort Asia year-trend.csv', index=False)\n",
    "mort_AF.to_csv('/Volumes/Database/Backups/202304 JASMIN/results presentation/Fig. 2 mort Africa year-trend.csv', index=False)\n",
    "mort_EU.to_csv('/Volumes/Database/Backups/202304 JASMIN/results presentation/Fig. 2 mort Europe year-trend.csv', index=False)\n",
    "mort_SA.to_csv('/Volumes/Database/Backups/202304 JASMIN/results presentation/Fig. 2 mort South America year-trend.csv', index=False)"
   ]
  }
 ],
 "metadata": {
  "kernelspec": {
   "display_name": "Python 3 (ipykernel)",
   "language": "python",
   "name": "python3"
  },
  "language_info": {
   "codemirror_mode": {
    "name": "ipython",
    "version": 3
   },
   "file_extension": ".py",
   "mimetype": "text/x-python",
   "name": "python",
   "nbconvert_exporter": "python",
   "pygments_lexer": "ipython3",
   "version": "3.11.5"
  }
 },
 "nbformat": 4,
 "nbformat_minor": 5
}
