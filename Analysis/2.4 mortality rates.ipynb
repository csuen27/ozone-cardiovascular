{
 "cells": [
  {
   "cell_type": "code",
   "execution_count": 1,
   "id": "8a4be203-24e9-4c8f-ad43-e28ce839573d",
   "metadata": {},
   "outputs": [],
   "source": [
    "import pandas as pd\n",
    "import numpy as np\n",
    "import time\n",
    "import warnings\n",
    "warnings.filterwarnings(\"ignore\")"
   ]
  },
  {
   "cell_type": "code",
   "execution_count": 2,
   "id": "b231bf43-b780-445c-a889-d766cbd14f81",
   "metadata": {},
   "outputs": [],
   "source": [
    "data_90 = pd.read_csv('~/ozone-mortality/ozone-cvd-mortality-1990(v0).csv')"
   ]
  },
  {
   "cell_type": "code",
   "execution_count": 3,
   "id": "bfe855e8-399e-41c4-84bf-97d16304773b",
   "metadata": {},
   "outputs": [],
   "source": [
    "data_90['pop_urban_25plus'] = data_90['population_urban_90']*data_90['pop_25plus']/data_90['pop_all']\n",
    "data_90['pop_rural_25plus'] = data_90['population_rural_90']*data_90['pop_25plus']/data_90['pop_all']"
   ]
  },
  {
   "cell_type": "code",
   "execution_count": 4,
   "id": "ccde193e-9fc9-4cd3-b5aa-26b6582b2cfb",
   "metadata": {},
   "outputs": [],
   "source": [
    "data_90_sum = pd.DataFrame(data_90[['pop_urban_25plus','pop_rural_25plus',\n",
    "                                    'cvd_25_death_urban_est','cvd_25_death_urban_lb','cvd_25_death_urban_ub',\n",
    "                                    'cvd_25_death_rural_est','cvd_25_death_rural_lb','cvd_25_death_rural_ub']].sum()).T"
   ]
  },
  {
   "cell_type": "code",
   "execution_count": 5,
   "id": "2719e47f-7d0f-4d36-a31d-011c15ed5162",
   "metadata": {},
   "outputs": [],
   "source": [
    "urban_est = np.round(data_90_sum['cvd_25_death_urban_est']/data_90_sum['pop_urban_25plus']*100000,1)\n",
    "urban_lb  = np.round(data_90_sum['cvd_25_death_urban_lb']/data_90_sum['pop_urban_25plus']*100000,1)\n",
    "urban_ub  = np.round(data_90_sum['cvd_25_death_urban_ub']/data_90_sum['pop_urban_25plus']*100000,1)\n",
    "\n",
    "rural_est = np.round(data_90_sum['cvd_25_death_rural_est']/data_90_sum['pop_rural_25plus']*100000,1)\n",
    "rural_lb  = np.round(data_90_sum['cvd_25_death_rural_lb']/data_90_sum['pop_rural_25plus']*100000,1)\n",
    "rural_ub  = np.round(data_90_sum['cvd_25_death_rural_ub']/data_90_sum['pop_rural_25plus']*100000,1)\n",
    "\n",
    "total_est = np.round((data_90_sum['cvd_25_death_urban_est']+data_90_sum['cvd_25_death_rural_est'])/\n",
    "                     (data_90_sum['pop_urban_25plus']+data_90_sum['pop_rural_25plus'])*100000,1)\n",
    "total_lb  = np.round((data_90_sum['cvd_25_death_urban_lb']+data_90_sum['cvd_25_death_rural_lb'])/\n",
    "                     (data_90_sum['pop_urban_25plus']+data_90_sum['pop_rural_25plus'])*100000,1)\n",
    "total_ub  = np.round((data_90_sum['cvd_25_death_urban_ub']+data_90_sum['cvd_25_death_rural_ub'])/\n",
    "                     (data_90_sum['pop_urban_25plus']+data_90_sum['pop_rural_25plus'])*100000,1)"
   ]
  },
  {
   "cell_type": "code",
   "execution_count": 6,
   "id": "81f28b6d-8d5e-45d3-9440-a9f50f110044",
   "metadata": {},
   "outputs": [
    {
     "data": {
      "text/plain": [
       "(0    8.8\n",
       " dtype: float64,\n",
       " 0    4.7\n",
       " dtype: float64,\n",
       " 0    13.1\n",
       " dtype: float64)"
      ]
     },
     "execution_count": 6,
     "metadata": {},
     "output_type": "execute_result"
    }
   ],
   "source": [
    "urban_est, urban_lb, urban_ub"
   ]
  },
  {
   "cell_type": "code",
   "execution_count": 7,
   "id": "afabd01e-ca6d-4495-a232-f5bfdc851d00",
   "metadata": {},
   "outputs": [
    {
     "data": {
      "text/plain": [
       "(0    16.8\n",
       " dtype: float64,\n",
       " 0    9.0\n",
       " dtype: float64,\n",
       " 0    25.2\n",
       " dtype: float64)"
      ]
     },
     "execution_count": 7,
     "metadata": {},
     "output_type": "execute_result"
    }
   ],
   "source": [
    "rural_est, rural_lb, rural_ub"
   ]
  },
  {
   "cell_type": "code",
   "execution_count": 8,
   "id": "a1f7c7ae-e77a-4147-9ada-f4201c06e3d0",
   "metadata": {},
   "outputs": [
    {
     "data": {
      "text/plain": [
       "(0    13.2\n",
       " dtype: float64,\n",
       " 0    7.0\n",
       " dtype: float64,\n",
       " 0    19.7\n",
       " dtype: float64)"
      ]
     },
     "execution_count": 8,
     "metadata": {},
     "output_type": "execute_result"
    }
   ],
   "source": [
    "total_est, total_lb, total_ub"
   ]
  },
  {
   "cell_type": "code",
   "execution_count": 9,
   "id": "d5123738-d8ec-4213-be00-7efa8697358a",
   "metadata": {},
   "outputs": [],
   "source": [
    "data_19 = pd.read_csv('~/ozone-mortality/ozone-cvd-mortality-2019(v0).csv')\n",
    "\n",
    "data_19['pop_urban_25plus'] = data_19['population_urban_19']*data_19['pop_25plus']/data_19['pop_all']\n",
    "data_19['pop_rural_25plus'] = data_19['population_rural_19']*data_19['pop_25plus']/data_19['pop_all']\n",
    "\n",
    "data_19_sum = pd.DataFrame(data_19[['pop_urban_25plus','pop_rural_25plus',\n",
    "                                    'cvd_25_death_urban_est','cvd_25_death_urban_lb','cvd_25_death_urban_ub',\n",
    "                                    'cvd_25_death_rural_est','cvd_25_death_rural_lb','cvd_25_death_rural_ub']].sum()).T\n",
    "\n",
    "urban_est = np.round(data_19_sum['cvd_25_death_urban_est']/data_19_sum['pop_urban_25plus']*100000,1)\n",
    "urban_lb  = np.round(data_19_sum['cvd_25_death_urban_lb']/data_19_sum['pop_urban_25plus']*100000,1)\n",
    "urban_ub  = np.round(data_19_sum['cvd_25_death_urban_ub']/data_19_sum['pop_urban_25plus']*100000,1)\n",
    "\n",
    "rural_est = np.round(data_19_sum['cvd_25_death_rural_est']/data_19_sum['pop_rural_25plus']*100000,1)\n",
    "rural_lb  = np.round(data_19_sum['cvd_25_death_rural_lb']/data_19_sum['pop_rural_25plus']*100000,1)\n",
    "rural_ub  = np.round(data_19_sum['cvd_25_death_rural_ub']/data_19_sum['pop_rural_25plus']*100000,1)\n",
    "\n",
    "total_est = np.round((data_19_sum['cvd_25_death_urban_est']+data_19_sum['cvd_25_death_rural_est'])/\n",
    "                     (data_19_sum['pop_urban_25plus']+data_19_sum['pop_rural_25plus'])*100000,1)\n",
    "total_lb  = np.round((data_19_sum['cvd_25_death_urban_lb']+data_19_sum['cvd_25_death_rural_lb'])/\n",
    "                     (data_19_sum['pop_urban_25plus']+data_19_sum['pop_rural_25plus'])*100000,1)\n",
    "total_ub  = np.round((data_19_sum['cvd_25_death_urban_ub']+data_19_sum['cvd_25_death_rural_ub'])/\n",
    "                     (data_19_sum['pop_urban_25plus']+data_19_sum['pop_rural_25plus'])*100000,1)"
   ]
  },
  {
   "cell_type": "code",
   "execution_count": 10,
   "id": "66bb565e-2589-4684-a4a0-cdabca5a53c3",
   "metadata": {},
   "outputs": [
    {
     "data": {
      "text/plain": [
       "(0    12.2\n",
       " dtype: float64,\n",
       " 0    6.5\n",
       " dtype: float64,\n",
       " 0    19.1\n",
       " dtype: float64)"
      ]
     },
     "execution_count": 10,
     "metadata": {},
     "output_type": "execute_result"
    }
   ],
   "source": [
    "urban_est, urban_lb, urban_ub"
   ]
  },
  {
   "cell_type": "code",
   "execution_count": 11,
   "id": "d1eac74f-abaf-49e8-961e-9f473721033b",
   "metadata": {},
   "outputs": [
    {
     "data": {
      "text/plain": [
       "(0    19.1\n",
       " dtype: float64,\n",
       " 0    10.0\n",
       " dtype: float64,\n",
       " 0    29.7\n",
       " dtype: float64)"
      ]
     },
     "execution_count": 11,
     "metadata": {},
     "output_type": "execute_result"
    }
   ],
   "source": [
    "rural_est, rural_lb, rural_ub"
   ]
  },
  {
   "cell_type": "code",
   "execution_count": 12,
   "id": "f55fa313-c3eb-4af0-9784-d9f747f8d2a2",
   "metadata": {},
   "outputs": [
    {
     "data": {
      "text/plain": [
       "(0    15.1\n",
       " dtype: float64,\n",
       " 0    7.9\n",
       " dtype: float64,\n",
       " 0    23.5\n",
       " dtype: float64)"
      ]
     },
     "execution_count": 12,
     "metadata": {},
     "output_type": "execute_result"
    }
   ],
   "source": [
    "total_est, total_lb, total_ub"
   ]
  },
  {
   "cell_type": "code",
   "execution_count": null,
   "id": "9e89d57b-bd09-4ab9-8718-1b24457a737a",
   "metadata": {},
   "outputs": [],
   "source": []
  }
 ],
 "metadata": {
  "kernelspec": {
   "display_name": "Python 3 + Jaspy",
   "language": "python",
   "name": "jaspy"
  },
  "language_info": {
   "codemirror_mode": {
    "name": "ipython",
    "version": 3
   },
   "file_extension": ".py",
   "mimetype": "text/x-python",
   "name": "python",
   "nbconvert_exporter": "python",
   "pygments_lexer": "ipython3",
   "version": "3.10.5"
  }
 },
 "nbformat": 4,
 "nbformat_minor": 5
}
