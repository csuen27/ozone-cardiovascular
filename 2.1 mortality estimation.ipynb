{
 "cells": [
  {
   "cell_type": "markdown",
   "id": "d94a4386-e27a-4e3b-bd2e-230f0584554a",
   "metadata": {},
   "source": [
    "#### Statistics for the cardiovascular mortality"
   ]
  },
  {
   "cell_type": "code",
   "execution_count": 1,
   "id": "289f637e-63e3-4d9a-9f3b-eeea30cee098",
   "metadata": {},
   "outputs": [],
   "source": [
    "import pandas as pd\n",
    "import numpy as np\n",
    "import time\n",
    "import warnings\n",
    "warnings.filterwarnings(\"ignore\")"
   ]
  },
  {
   "cell_type": "markdown",
   "id": "494f564b-79be-482f-af66-748b08fdabe4",
   "metadata": {},
   "source": [
    "#### Statistics for 1990"
   ]
  },
  {
   "cell_type": "code",
   "execution_count": 2,
   "id": "28d28fe2-552a-4b24-9320-0a095cb9c38f",
   "metadata": {},
   "outputs": [],
   "source": [
    "data = pd.read_csv('~/ozone-mortality/ozone-cvd-mortality-1990(v0).csv')"
   ]
  },
  {
   "cell_type": "code",
   "execution_count": 3,
   "id": "41ccc487-7785-456b-a8b5-32fbd5848605",
   "metadata": {},
   "outputs": [],
   "source": [
    "urban_est = np.int(np.round(data['cvd_25_death_urban_est'].sum(),-2))\n",
    "urban_lb  = np.int(np.round(data['cvd_25_death_urban_lb'].sum(),-2))\n",
    "urban_ub  = np.int(np.round(data['cvd_25_death_urban_ub'].sum(),-2))\n",
    "\n",
    "rural_est = np.int(np.round(data['cvd_25_death_rural_est'].sum(),-2))\n",
    "rural_lb  = np.int(np.round(data['cvd_25_death_rural_lb'].sum(),-2))\n",
    "rural_ub  = np.int(np.round(data['cvd_25_death_rural_ub'].sum(),-2))\n",
    "\n",
    "total_est = urban_est+rural_est \n",
    "total_lb  = urban_lb+rural_lb \n",
    "total_ub  = urban_ub+rural_ub "
   ]
  },
  {
   "cell_type": "markdown",
   "id": "4312b94b-fb54-45e8-a5be-b67e01859e83",
   "metadata": {},
   "source": [
    "#### Calculate the premature death numbers of urban and rural excess mortalities"
   ]
  },
  {
   "cell_type": "code",
   "execution_count": 4,
   "id": "953a6a2e-3bac-4729-88ed-96dd91dfc241",
   "metadata": {},
   "outputs": [
    {
     "name": "stdout",
     "output_type": "stream",
     "text": [
      "total cardiovascular mortality:  377600, 95% UI: [202100, 565400]\n",
      "urban cardiovascular mortality:  114900, 95% UI:  [61500, 171700]\n",
      "rural cardiovascular mortality:  262700, 95% UI: [140600, 393700]\n"
     ]
    }
   ],
   "source": [
    "print(\"total cardiovascular mortality:  \"+str(total_est)+\", 95% UI: [\"+str(total_lb)+\", \"+str(total_ub)+\"]\")\n",
    "print(\"urban cardiovascular mortality:  \"+str(urban_est)+\", 95% UI:  [\"+str(urban_lb)+\", \"+str(urban_ub)+\"]\")\n",
    "print(\"rural cardiovascular mortality:  \"+str(rural_est)+\", 95% UI: [\"+str(rural_lb)+\", \"+str(rural_ub)+\"]\")"
   ]
  },
  {
   "cell_type": "markdown",
   "id": "20176402-d120-4d61-b4bd-dd3dfa9008c2",
   "metadata": {},
   "source": [
    "#### Calculate the fractions of urban and rural excess mortalities"
   ]
  },
  {
   "cell_type": "code",
   "execution_count": 5,
   "id": "496776c9-403d-45de-90c6-cf50d3e42d2f",
   "metadata": {},
   "outputs": [
    {
     "name": "stdout",
     "output_type": "stream",
     "text": [
      "urban mortality fraction:  30.4 %\n",
      "rural mortality fraction:  69.6 %\n"
     ]
    }
   ],
   "source": [
    "urban_frac = np.round(urban_est/total_est*100,1)\n",
    "rural_frac = np.round(rural_est/total_est*100,1)\n",
    "\n",
    "print(\"urban mortality fraction:  \"+str(urban_frac)+\" %\")\n",
    "print(\"rural mortality fraction:  \"+str(rural_frac)+\" %\")"
   ]
  },
  {
   "cell_type": "markdown",
   "id": "1c8e325c-8d6e-4239-a55e-f993d9790c22",
   "metadata": {},
   "source": [
    "#### Statistics for 2019"
   ]
  },
  {
   "cell_type": "code",
   "execution_count": 6,
   "id": "5f4173f6-ac41-49be-91a1-43168c70300a",
   "metadata": {},
   "outputs": [],
   "source": [
    "data = pd.read_csv('~/ozone-mortality/ozone-cvd-mortality-2019(v0).csv')"
   ]
  },
  {
   "cell_type": "code",
   "execution_count": 7,
   "id": "7e236c13-1204-49f3-9ed0-5384dfb0d098",
   "metadata": {},
   "outputs": [],
   "source": [
    "urban_est = np.int(np.round(data['cvd_25_death_urban_est'].sum(),-2))\n",
    "urban_lb  = np.int(np.round(data['cvd_25_death_urban_lb'].sum(),-2))\n",
    "urban_ub  = np.int(np.round(data['cvd_25_death_urban_ub'].sum(),-2))\n",
    "\n",
    "rural_est = np.int(np.round(data['cvd_25_death_rural_est'].sum(),-2))\n",
    "rural_lb  = np.int(np.round(data['cvd_25_death_rural_lb'].sum(),-2))\n",
    "rural_ub  = np.int(np.round(data['cvd_25_death_rural_ub'].sum(),-2))\n",
    "\n",
    "total_est = urban_est+rural_est \n",
    "total_lb  = urban_lb+rural_lb \n",
    "total_ub  = urban_ub+rural_ub "
   ]
  },
  {
   "cell_type": "markdown",
   "id": "6779113f-8d26-4ac4-811a-7fd1e960faf5",
   "metadata": {},
   "source": [
    "#### Calculate the premature death numbers of urban and rural excess mortalities"
   ]
  },
  {
   "cell_type": "code",
   "execution_count": 8,
   "id": "39611656-4898-4229-8894-e57bbe4c8f77",
   "metadata": {},
   "outputs": [
    {
     "name": "stdout",
     "output_type": "stream",
     "text": [
      "total cardiovascular mortality:  552000, 95% UI: [290700, 859400]\n",
      "urban cardiovascular mortality:  262500, 95% UI: [138300, 408400]\n",
      "rural cardiovascular mortality:  289500, 95% UI: [152400, 451000]\n"
     ]
    }
   ],
   "source": [
    "print(\"total cardiovascular mortality:  \"+str(total_est)+\", 95% UI: [\"+str(total_lb)+\", \"+str(total_ub)+\"]\")\n",
    "print(\"urban cardiovascular mortality:  \"+str(urban_est)+\", 95% UI: [\"+str(urban_lb)+\", \"+str(urban_ub)+\"]\")\n",
    "print(\"rural cardiovascular mortality:  \"+str(rural_est)+\", 95% UI: [\"+str(rural_lb)+\", \"+str(rural_ub)+\"]\")"
   ]
  },
  {
   "cell_type": "markdown",
   "id": "62815a64-f8e6-4382-b804-b4eeb46ec5a9",
   "metadata": {},
   "source": [
    "#### Calculate the fractions of urban and rural excess mortalities"
   ]
  },
  {
   "cell_type": "code",
   "execution_count": 9,
   "id": "031774e1-860b-4958-be45-6503f5bc6f83",
   "metadata": {},
   "outputs": [
    {
     "name": "stdout",
     "output_type": "stream",
     "text": [
      "urban mortality fraction:  47.6 %\n",
      "rural mortality fraction:  52.4 %\n"
     ]
    }
   ],
   "source": [
    "urban_frac = np.round(urban_est/total_est*100,1)\n",
    "rural_frac = np.round(rural_est/total_est*100,1)\n",
    "\n",
    "print(\"urban mortality fraction:  \"+str(urban_frac)+\" %\")\n",
    "print(\"rural mortality fraction:  \"+str(rural_frac)+\" %\")"
   ]
  },
  {
   "cell_type": "code",
   "execution_count": 10,
   "id": "0d428557-3729-4e22-8cd5-0de613874848",
   "metadata": {},
   "outputs": [
    {
     "name": "stdout",
     "output_type": "stream",
     "text": [
      "rural cardiovascular mortality excession:  27000, 95% UI: [14100, 42600]\n"
     ]
    }
   ],
   "source": [
    "diff_est = rural_est - urban_est\n",
    "diff_lb = rural_lb - urban_lb\n",
    "diff_ub = rural_ub - urban_ub\n",
    "\n",
    "print(\"rural cardiovascular mortality excession:  \"+str(diff_est)+\", 95% UI: [\"+str(diff_lb)+\", \"+str(diff_ub)+\"]\")"
   ]
  }
 ],
 "metadata": {
  "kernelspec": {
   "display_name": "Python 3 + Jaspy",
   "language": "python",
   "name": "jaspy"
  },
  "language_info": {
   "codemirror_mode": {
    "name": "ipython",
    "version": 3
   },
   "file_extension": ".py",
   "mimetype": "text/x-python",
   "name": "python",
   "nbconvert_exporter": "python",
   "pygments_lexer": "ipython3",
   "version": "3.10.5"
  }
 },
 "nbformat": 4,
 "nbformat_minor": 5
}
